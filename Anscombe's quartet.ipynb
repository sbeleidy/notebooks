{
 "cells": [
  {
   "cell_type": "markdown",
   "metadata": {},
   "source": [
    "# Anscombe's quartet\n",
    "\n",
    "This notebook explores some datasets and discusses the importance of graphing and visualizations. The dataset used is called Anscombe's quaret. Let's begin!"
   ]
  },
  {
   "cell_type": "code",
   "execution_count": 1,
   "metadata": {
    "collapsed": true
   },
   "outputs": [],
   "source": [
    "import numpy as np\n",
    "import pandas as pd\n",
    "import matplotlib.pyplot as plt\n",
    "%matplotlib inline\n",
    "plt.style.use('ggplot')"
   ]
  },
  {
   "cell_type": "code",
   "execution_count": 2,
   "metadata": {
    "collapsed": true
   },
   "outputs": [],
   "source": [
    "one_x = [10.0, 8.0, 13.0, 9.0, 11.0, 14.0, 6.0, 4.0, 12.0, 7.0, 5.0]\n",
    "one_y = [8.04, 6.95, 7.58, 8.81, 8.33, 9.96, 7.24, 4.26, 10.84, 4.82, 5.68]\n",
    "two_x = [10.0, 8.0, 13.0, 9.0, 11.0, 14.0, 6.0, 4.0, 12.0, 7.0, 5.0]\n",
    "two_y = [9.14, 8.14, 8.74, 8.77, 9.26, 8.10, 6.13, 3.10, 9.13, 7.26, 4.74]\n",
    "three_x = [10.0, 8.0, 13.0, 9.0, 11.0, 14.0, 6.0, 4.0, 12.0, 7.0, 5.0]\n",
    "three_y = [7.46, 6.77, 12.74, 7.11, 7.81, 8.84, 6.08, 5.39, 8.15, 6.42, 5.73]\n",
    "four_x = [8.0, 8.0, 8.0, 8.0, 8.0, 8.0, 8.0, 19.0, 8.0, 8.0, 8.0]\n",
    "four_y = [6.58, 5.76, 7.71, 8.84, 8.47, 7.04, 5.25, 12.50, 5.56, 7.91, 6.89]\n",
    "\n",
    "xs = [one_x, two_x, three_x, four_x]\n",
    "ys = [one_y, two_y, three_y, four_y]"
   ]
  },
  {
   "cell_type": "code",
   "execution_count": 3,
   "metadata": {
    "collapsed": false
   },
   "outputs": [
    {
     "name": "stdout",
     "output_type": "stream",
     "text": [
      "The mean of series 1's x values is 9.0.\n",
      "The mean of series 2's x values is 9.0.\n",
      "The mean of series 3's x values is 9.0.\n",
      "The mean of series 4's x values is 9.0.\n"
     ]
    }
   ],
   "source": [
    "# Now the fun begins, let's calculate the mean of all the x series\n",
    "for index,x in enumerate(xs):\n",
    "    print(\"The mean of series {}'s x values is {}.\".format(index+1, np.mean(x)))"
   ]
  },
  {
   "cell_type": "code",
   "execution_count": 4,
   "metadata": {
    "collapsed": false
   },
   "outputs": [
    {
     "name": "stdout",
     "output_type": "stream",
     "text": [
      "The mean of series 1's y values is 7.500909090909093.\n",
      "The mean of series 2's y values is 7.50090909090909.\n",
      "The mean of series 3's y values is 7.5.\n",
      "The mean of series 4's y values is 7.500909090909091.\n"
     ]
    }
   ],
   "source": [
    "# Means of all the y series\n",
    "for index,y in enumerate(ys):\n",
    "    print(\"The mean of series {}'s y values is {}.\".format(index+1, np.mean(y)))"
   ]
  },
  {
   "cell_type": "code",
   "execution_count": 5,
   "metadata": {
    "collapsed": false
   },
   "outputs": [
    {
     "name": "stdout",
     "output_type": "stream",
     "text": [
      "The variance of series 1's x values is 10.0.\n",
      "The variance of series 2's x values is 10.0.\n",
      "The variance of series 3's x values is 10.0.\n",
      "The variance of series 4's x values is 10.0.\n"
     ]
    }
   ],
   "source": [
    "# Variance of xs\n",
    "for index,x in enumerate(xs):\n",
    "    print(\"The variance of series {}'s x values is {}.\".format(index+1, np.var(x)))"
   ]
  },
  {
   "cell_type": "code",
   "execution_count": 6,
   "metadata": {
    "collapsed": false
   },
   "outputs": [
    {
     "name": "stdout",
     "output_type": "stream",
     "text": [
      "The variance of series 1's y values is 7.500909090909093.\n",
      "The variance of series 2's y values is 7.50090909090909.\n",
      "The variance of series 3's y values is 7.5.\n",
      "The variance of series 4's y values is 7.500909090909091.\n"
     ]
    }
   ],
   "source": [
    "# Variance of ys\n",
    "for index,y in enumerate(ys):\n",
    "    print(\"The variance of series {}'s y values is {}.\".format(index+1, np.mean(y)))"
   ]
  },
  {
   "cell_type": "code",
   "execution_count": 7,
   "metadata": {
    "collapsed": false
   },
   "outputs": [
    {
     "name": "stdout",
     "output_type": "stream",
     "text": [
      "The corellation between x's and y's for series 1 is 0.81642051634484\n",
      "The corellation between x's and y's for series 2 is 0.8162365060002428\n",
      "The corellation between x's and y's for series 3 is 0.8162867394895984\n",
      "The corellation between x's and y's for series 4 is 0.8165214368885028\n"
     ]
    }
   ],
   "source": [
    "# Correlation for each series\n",
    "for i in range(4):\n",
    "    print(\"The corellation between x's and y's for series {} is {}\".format(i+1, np.corrcoef(xs[i], ys[i])[0][1]))"
   ]
  },
  {
   "cell_type": "code",
   "execution_count": 8,
   "metadata": {
    "collapsed": false
   },
   "outputs": [
    {
     "name": "stdout",
     "output_type": "stream",
     "text": [
      "The fitted line for series 1 is y = 0.5000909090909095x + 3.0000909090909076\n",
      "The fitted line for series 2 is y = 0.5000909090909095x + 3.0000909090909076\n",
      "The fitted line for series 3 is y = 0.5000909090909095x + 3.0000909090909076\n",
      "The fitted line for series 4 is y = 0.5000909090909095x + 3.0000909090909076\n"
     ]
    }
   ],
   "source": [
    "# Let's fit a line\n",
    "for i in range(4):\n",
    "    coefs = np.polyfit(xs[0], ys[0], 1)\n",
    "    print(\"The fitted line for series {} is y = {}x + {}\".format(i+1, coefs[0], coefs[1]))\n",
    "    "
   ]
  },
  {
   "cell_type": "markdown",
   "metadata": {},
   "source": [
    "Everything looks great. These data sets seem to be very similar! Let's see what they look like on a graph."
   ]
  },
  {
   "cell_type": "code",
   "execution_count": 9,
   "metadata": {
    "collapsed": false
   },
   "outputs": [],
   "source": [
    "# Some helper values for the plots\n",
    "buffer = 3\n",
    "maxX = max(max(xs[0]),max(xs[1]),max(xs[2]),max(xs[3]))\n",
    "maxY = max(max(ys[0]),max(ys[1]),max(ys[2]),max(ys[3]))\n",
    "\n",
    "# The line that fits all the datasets\n",
    "x = np.arange(0,maxX+buffer)\n",
    "fx = coefs[0]* x + coefs[1]"
   ]
  },
  {
   "cell_type": "code",
   "execution_count": 10,
   "metadata": {
    "collapsed": false
   },
   "outputs": [
    {
     "data": {
      "image/png": "[encoded data removed]",
      "text/plain": [
       "<matplotlib.figure.Figure at 0x10c200dd8>"
      ]
     },
     "metadata": {},
     "output_type": "display_data"
    }
   ],
   "source": [
    "## Let's plot the datasets!\n",
    "\n",
    "# Plot 4 different graphs in a 2 by 2 square\n",
    "fig, axes = plt.subplots(ncols=2, nrows=2)\n",
    "ax1, ax2, ax3, ax4 = axes.ravel()\n",
    "\n",
    "\n",
    "\n",
    "\n",
    "ax1.plot(xs[0],ys[0],\"bo\")              # Plot the x and y values\n",
    "ax1.set_ylim(0, maxY + buffer)          # Use the same scale\n",
    "ax1.set_xlim(0, maxX + buffer)\n",
    "ax1.plot(x,fx,\"-\")                      # Plot the line\n",
    "ax1.set_title(\"Series 1\", fontsize=8)   # Add the title for the dataset\n",
    "\n",
    "ax2.plot(xs[1],ys[1],\"bo\")\n",
    "ax2.set_ylim(0, maxY + buffer)\n",
    "ax2.set_xlim(0, maxX + buffer)\n",
    "ax2.plot(x,fx,\"-\")\n",
    "ax2.set_title(\"Series 2\", fontsize=8)\n",
    "\n",
    "ax3.plot(xs[2],ys[2],\"bo\")\n",
    "ax3.set_ylim(0, maxY + buffer)\n",
    "ax3.set_xlim(0, maxX + buffer)\n",
    "ax3.plot(x,fx,\"-\")\n",
    "ax3.set_title(\"Series 3\", fontsize=8)\n",
    "\n",
    "ax4.plot(xs[3],ys[3],\"bo\")\n",
    "ax4.set_ylim(0, maxY + buffer)\n",
    "ax4.set_xlim(0, maxX + buffer)\n",
    "ax4.plot(x,fx,\"-\")\n",
    "ax4.set_title(\"Series 4\", fontsize=8)\n",
    "\n",
    "fig.suptitle(\"Plotting Anscombe's Quartet\", fontsize=9)\n",
    "fig.subplots_adjust(hspace=.5)\n",
    "\n",
    "plt.show()"
   ]
  },
  {
   "cell_type": "markdown",
   "metadata": {},
   "source": [
    "This dataset shows the importance of visualizations. You don't necessarily understand how a dataset behaves simply by looking at descriptive statistics.\n",
    "\n",
    "From [Wikipedia](https://en.wikipedia.org/wiki/Anscombe%27s_quartet):\n",
    "\n",
    ">Anscombe's quartet comprises four datasets that have nearly identical simple descriptive statistics, yet appear very different when graphed. Each dataset consists of eleven (x,y) points. They were constructed in 1973 by the statistician Francis Anscombe to demonstrate both the importance of graphing data before analyzing it and the effect of outliers on statistical properties. He described the article as being intended to attack the impression among statisticians that \"numerical calculations are exact, but graphs are rough.\""
   ]
  }
 ],
 "metadata": {
  "anaconda-cloud": {},
  "kernelspec": {
   "display_name": "Python [conda env:py35]",
   "language": "python",
   "name": "conda-env-py35-py"
  },
  "language_info": {
   "codemirror_mode": {
    "name": "ipython",
    "version": 3
   },
   "file_extension": ".py",
   "mimetype": "text/x-python",
   "name": "python",
   "nbconvert_exporter": "python",
   "pygments_lexer": "ipython3",
   "version": "3.5.2"
  }
 },
 "nbformat": 4,
 "nbformat_minor": 1
}
