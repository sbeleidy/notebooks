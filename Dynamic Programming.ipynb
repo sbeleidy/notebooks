{
 "cells": [
  {
   "cell_type": "markdown",
   "metadata": {},
   "source": [
    "# Dynamic Programming Overview & Examples\n",
    "\n",
    "Notebook requirements:\n",
    "\n",
    "Python 3.5\n",
    "\n",
    "## Overview\n",
    "\n",
    "[Dynamic Programming](https://en.wikipedia.org/wiki/Dynamic_programming) is a tool that can be used to simplify or speed up complex algorithms. Dynamic Programming usually works on problems that have a recursive nature or recursive nature for their solutions. The idea is to trade storage for time allowing.\n",
    "\n",
    "Dynamic programming uses reccurrence relations which are equations or functions that can be defined in terms of themselves."
   ]
  },
  {
   "cell_type": "code",
   "execution_count": 101,
   "metadata": {
    "collapsed": false
   },
   "outputs": [
    {
     "data": {
      "text/latex": [
       "$a_n = n$ can be defined as $a_1 = 1, a_n = a_{n-1} + 1\\\\$"
      ],
      "text/plain": [
       "<IPython.core.display.Latex object>"
      ]
     },
     "metadata": {},
     "output_type": "display_data"
    }
   ],
   "source": [
    "%%latex\n",
    "$a_n = n$ can be defined as $a_1 = 1, a_n = a_{n-1} + 1\\\\$"
   ]
  },
  {
   "cell_type": "code",
   "execution_count": 102,
   "metadata": {
    "collapsed": false
   },
   "outputs": [
    {
     "data": {
      "text/latex": [
       "$a_n = 2^n$ can be defined as $a_1 = 2, a_n = 2*a_{n-1}\\\\$"
      ],
      "text/plain": [
       "<IPython.core.display.Latex object>"
      ]
     },
     "metadata": {},
     "output_type": "display_data"
    }
   ],
   "source": [
    "%%latex\n",
    "$a_n = 2^n$ can be defined as $a_1 = 2, a_n = 2*a_{n-1}\\\\$"
   ]
  },
  {
   "cell_type": "code",
   "execution_count": 103,
   "metadata": {
    "collapsed": false
   },
   "outputs": [
    {
     "data": {
      "text/latex": [
       "$a_n = n!$ can be defined as $a_1 = 1, a_n = n* a_{n-1}$"
      ],
      "text/plain": [
       "<IPython.core.display.Latex object>"
      ]
     },
     "metadata": {},
     "output_type": "display_data"
    }
   ],
   "source": [
    "%%latex\n",
    "$a_n = n!$ can be defined as $a_1 = 1, a_n = n* a_{n-1}$"
   ]
  },
  {
   "cell_type": "markdown",
   "metadata": {},
   "source": [
    "### Steps to Dynamic Programming\n",
    "\n",
    "1. Formulate the recurrence relation\n",
    "1. Show that the number of instances is bound by a polynomial\n",
    "1. Develop an order of evaluation where required inputs are already available"
   ]
  },
  {
   "cell_type": "markdown",
   "metadata": {},
   "source": [
    "## Examples\n",
    "\n",
    "I'll cover some examples to show how Dynamic Programming can speed up a solution."
   ]
  },
  {
   "cell_type": "code",
   "execution_count": 104,
   "metadata": {
    "collapsed": false
   },
   "outputs": [],
   "source": [
    "# For all the examples we will track time using python's built in time library\n",
    "from time import perf_counter\n",
    "\n",
    "def runThis(f):\n",
    "    start = perf_counter()\n",
    "    f\n",
    "    end = perf_counter() - start\n",
    "    print(\"Performance metric: {}. Smaller is better\".format(end))"
   ]
  },
  {
   "cell_type": "markdown",
   "metadata": {},
   "source": [
    "### Fibonacci Numbers\n",
    "\n",
    "The [Fibonacci numbers](https://en.wikipedia.org/wiki/Fibonacci_number) are an integer sequence that goes as follows: `0, 1, 1, 2, 3, 5, 8, 13, 21...`. The problem is, how do we calculate the `n`th Fibonacci number."
   ]
  },
  {
   "cell_type": "code",
   "execution_count": 105,
   "metadata": {
    "collapsed": false
   },
   "outputs": [
    {
     "data": {
      "text/latex": [
       "\\[F(0) = 0 \\\\F(1) = 1 \\\\F(n) = F(n-1) + F(n-2)\\]"
      ],
      "text/plain": [
       "<IPython.core.display.Latex object>"
      ]
     },
     "metadata": {},
     "output_type": "display_data"
    }
   ],
   "source": [
    "%%latex\n",
    "\\[F(0) = 0 \\\\F(1) = 1 \\\\F(n) = F(n-1) + F(n-2)\\]"
   ]
  },
  {
   "cell_type": "code",
   "execution_count": 106,
   "metadata": {
    "collapsed": true
   },
   "outputs": [],
   "source": [
    "# Direct Coding\n",
    "def F(n):\n",
    "    if n == 0: return 0\n",
    "    if n == 1: return 1\n",
    "    return F(n-1) + F(n-2)"
   ]
  },
  {
   "cell_type": "code",
   "execution_count": 107,
   "metadata": {
    "collapsed": false
   },
   "outputs": [
    {
     "name": "stdout",
     "output_type": "stream",
     "text": [
      "55\n",
      "Performance metric: 3.0500086722895503e-07. Smaller is better\n"
     ]
    }
   ],
   "source": [
    "print(F(10))\n",
    "runThis(F(10))"
   ]
  },
  {
   "cell_type": "code",
   "execution_count": 108,
   "metadata": {
    "collapsed": false
   },
   "outputs": [
    {
     "name": "stdout",
     "output_type": "stream",
     "text": [
      "832040\n",
      "Performance metric: 6.440022843889892e-07. Smaller is better\n"
     ]
    }
   ],
   "source": [
    "print(F(30))\n",
    "runThis(F(30))"
   ]
  },
  {
   "cell_type": "markdown",
   "metadata": {},
   "source": [
    "The problem with the above code is that it ends up calculating the same calculations multiple times. Instead of doing that, we can store already calculated values in a list. Below is a better way of coding this funciton:"
   ]
  },
  {
   "cell_type": "code",
   "execution_count": 109,
   "metadata": {
    "collapsed": true
   },
   "outputs": [],
   "source": [
    "# Better Coding\n",
    "fib = [0,1]\n",
    "def betterF(n):\n",
    "    global fib\n",
    "    if len(fib) < n+1:\n",
    "        fib = [0,1] + [None]*(n-1)\n",
    "    if fib[n] != None:\n",
    "        pass # Do nothing\n",
    "    elif n == 0:\n",
    "        fib[0] = 0\n",
    "    elif n == 1:\n",
    "        fib[1] == 1\n",
    "    else:\n",
    "        fib[n] = betterF(n-1) + betterF(n-2)\n",
    "    return fib[n]"
   ]
  },
  {
   "cell_type": "code",
   "execution_count": 110,
   "metadata": {
    "collapsed": false
   },
   "outputs": [
    {
     "name": "stdout",
     "output_type": "stream",
     "text": [
      "5\n",
      "Performance metric: 3.980021574534476e-07. Smaller is better\n"
     ]
    }
   ],
   "source": [
    "print(betterF(5))\n",
    "runThis(betterF(5))"
   ]
  },
  {
   "cell_type": "code",
   "execution_count": 111,
   "metadata": {
    "collapsed": false
   },
   "outputs": [
    {
     "name": "stdout",
     "output_type": "stream",
     "text": [
      "832040\n",
      "Performance metric: 4.6000059228390455e-07. Smaller is better\n"
     ]
    }
   ],
   "source": [
    "print(betterF(30))\n",
    "runThis(betterF(30))"
   ]
  },
  {
   "cell_type": "code",
   "execution_count": 112,
   "metadata": {
    "collapsed": false
   },
   "outputs": [
    {
     "name": "stdout",
     "output_type": "stream",
     "text": [
      "354224848179261915075\n",
      "Performance metric: 4.890025593340397e-07. Smaller is better\n",
      "5\n",
      "Performance metric: 2.7799978852272034e-07. Smaller is better\n",
      "[0, 1, 1, 2, 3, 5, 8, 13, 21, 34, 55, 89, 144, 233, 377, 610, 987, 1597, 2584, 4181, 6765, 10946, 17711, 28657, 46368, 75025, 121393, 196418, 317811, 514229, 832040, 1346269, 2178309, 3524578, 5702887, 9227465, 14930352, 24157817, 39088169, 63245986, 102334155, 165580141, 267914296, 433494437, 701408733, 1134903170, 1836311903, 2971215073, 4807526976, 7778742049, 12586269025, 20365011074, 32951280099, 53316291173, 86267571272, 139583862445, 225851433717, 365435296162, 591286729879, 956722026041, 1548008755920, 2504730781961, 4052739537881, 6557470319842, 10610209857723, 17167680177565, 27777890035288, 44945570212853, 72723460248141, 117669030460994, 190392490709135, 308061521170129, 498454011879264, 806515533049393, 1304969544928657, 2111485077978050, 3416454622906707, 5527939700884757, 8944394323791464, 14472334024676221, 23416728348467685, 37889062373143906, 61305790721611591, 99194853094755497, 160500643816367088, 259695496911122585, 420196140727489673, 679891637638612258, 1100087778366101931, 1779979416004714189, 2880067194370816120, 4660046610375530309, 7540113804746346429, 12200160415121876738, 19740274219868223167, 31940434634990099905, 51680708854858323072, 83621143489848422977, 135301852344706746049, 218922995834555169026, 354224848179261915075]\n"
     ]
    }
   ],
   "source": [
    "fib = [0,1] # Reset the global value of fib\n",
    "print(betterF(100))\n",
    "runThis(betterF(100))\n",
    "print(F(5))\n",
    "runThis(F(5))\n",
    "print(fib)"
   ]
  },
  {
   "cell_type": "markdown",
   "metadata": {},
   "source": [
    "We can actually compute the value for `n=100` with `betterF`, faster than we can compute `n=10` with `F`.\n",
    "This demonstrates that the changes makes a significant difference.\n",
    "\n",
    "We also end up with a bonus of being able to find any values less than n immediately by calling the appropriate index of the stored array."
   ]
  },
  {
   "cell_type": "markdown",
   "metadata": {},
   "source": [
    "### Binomial Coefficients\n",
    "\n",
    "[Binomial Coefficients](https://en.wikipedia.org/wiki/Binomial_coefficient) are the number of ways you can select n values from k options. They are often represented as follows:"
   ]
  },
  {
   "cell_type": "code",
   "execution_count": 113,
   "metadata": {
    "collapsed": false
   },
   "outputs": [
    {
     "data": {
      "text/latex": [
       "\\[\n",
       "    \\binom{n}{k} = \\frac{n!}{(n-k)!\\ k!}\n",
       "\\] "
      ],
      "text/plain": [
       "<IPython.core.display.Latex object>"
      ]
     },
     "metadata": {},
     "output_type": "display_data"
    }
   ],
   "source": [
    "%%latex\n",
    "\\[\n",
    "    \\binom{n}{k} = \\frac{n!}{(n-k)!\\ k!}\n",
    "\\] "
   ]
  },
  {
   "cell_type": "markdown",
   "metadata": {},
   "source": [
    "They also have a useful recurrence relation called [Pascal's Recurrence](https://en.wikipedia.org/wiki/Pascal%27s_triangle) which is defined as follows:"
   ]
  },
  {
   "cell_type": "code",
   "execution_count": 114,
   "metadata": {
    "collapsed": false
   },
   "outputs": [
    {
     "data": {
      "text/latex": [
       "\\[\n",
       "    \\binom{n}{k} = \\binom{n-1}{k-1} + \\binom{n-1}{k}\n",
       "\\] "
      ],
      "text/plain": [
       "<IPython.core.display.Latex object>"
      ]
     },
     "metadata": {},
     "output_type": "display_data"
    }
   ],
   "source": [
    "%%latex\n",
    "\\[\n",
    "    \\binom{n}{k} = \\binom{n-1}{k-1} + \\binom{n-1}{k}\n",
    "\\] "
   ]
  },
  {
   "cell_type": "code",
   "execution_count": 115,
   "metadata": {
    "collapsed": true
   },
   "outputs": [],
   "source": [
    "def factorial(n):\n",
    "    if n ==1:\n",
    "        return 1\n",
    "    else:\n",
    "        return n*factorial(n-1)\n",
    "\n",
    "def choose(n,k):\n",
    "    return factorial(n)/(factorial(n-k)*factorial(k))"
   ]
  },
  {
   "cell_type": "code",
   "execution_count": 116,
   "metadata": {
    "collapsed": false
   },
   "outputs": [
    {
     "name": "stdout",
     "output_type": "stream",
     "text": [
      "10.0\n",
      "Performance metric: 3.400054993107915e-07. Smaller is better\n"
     ]
    }
   ],
   "source": [
    "print(choose(5,2))\n",
    "runThis(choose(5,2))"
   ]
  },
  {
   "cell_type": "code",
   "execution_count": 117,
   "metadata": {
    "collapsed": false
   },
   "outputs": [
    {
     "name": "stdout",
     "output_type": "stream",
     "text": [
      "1.917353200780443e+24\n",
      "Performance metric: 2.590022631920874e-07. Smaller is better\n"
     ]
    }
   ],
   "source": [
    "print(choose(100,27))\n",
    "runThis(choose(100,27))"
   ]
  },
  {
   "cell_type": "code",
   "execution_count": 118,
   "metadata": {
    "collapsed": true
   },
   "outputs": [],
   "source": [
    "bc = [[0],[0]]\n",
    "\n",
    "def betterChoose(n,k):\n",
    "    global bc\n",
    "    if len(bc[0]) < k+1:\n",
    "        bc = [[0 for i in range(k+1)] for j in range(n+2)]\n",
    "    \n",
    "    for i in range(n+1):\n",
    "        bc[i][0] = 1        # Any value choose 0 is 1\n",
    "    for j in range(k+1):\n",
    "        bc[j][j] = 1        # Any value choose the value is 1\n",
    "\n",
    "    for i in range(1,n+1):\n",
    "        for j in range(1,min(i,k+1)):\n",
    "            bc[i][j] = bc[i-1][j-1] + bc[i-1][j]\n",
    "            \n",
    "    return bc[n][k]"
   ]
  },
  {
   "cell_type": "code",
   "execution_count": 119,
   "metadata": {
    "collapsed": false
   },
   "outputs": [
    {
     "name": "stdout",
     "output_type": "stream",
     "text": [
      "10\n",
      "Performance metric: 2.6600173441693187e-07. Smaller is better\n"
     ]
    }
   ],
   "source": [
    "bc = [[0],[0]] # Reset bc's value\n",
    "print(betterChoose(5,2))\n",
    "runThis(betterChoose(5,2))"
   ]
  },
  {
   "cell_type": "code",
   "execution_count": 120,
   "metadata": {
    "collapsed": false
   },
   "outputs": [
    {
     "name": "stdout",
     "output_type": "stream",
     "text": [
      "1917353200780443050763600\n",
      "Performance metric: 4.829998943023384e-07. Smaller is better\n"
     ]
    }
   ],
   "source": [
    "bc = [[0],[0]] # Reset bc's value\n",
    "print(betterChoose(100,27))\n",
    "runThis(betterChoose(100,27))"
   ]
  },
  {
   "cell_type": "markdown",
   "metadata": {},
   "source": [
    "### Spell Check / Autocorrect\n",
    "\n",
    "Let's compare 2 strings and see the minimum number of changes that need to be made in order to convert the first to the second. For each index, there are three types of modifications:\n",
    "\n",
    "1. Substitute - change the `i`th character in string 1 to the `i`th character in string 2\n",
    "1. Insert - add the needed character\n",
    "1. Delete - delete the character\n",
    "\n",
    "Each of these modifications will have a cost of 1."
   ]
  },
  {
   "cell_type": "code",
   "execution_count": 121,
   "metadata": {
    "collapsed": true
   },
   "outputs": [],
   "source": [
    "def editDistance(first, second, i, j):\n",
    "    if i == 0:\n",
    "        return j\n",
    "    if j == 0:\n",
    "        return i\n",
    "    \n",
    "    costs = [None for i in range(3)]\n",
    "    \n",
    "    if first[i] == second[j]:\n",
    "        costs[0] = editDistance(first, second, i-1, j-1)\n",
    "    else:\n",
    "        costs[0] = editDistance(first, second, i-1, j-1) + 1\n",
    "        \n",
    "    costs[1] = editDistance(first, second, i, j-1) + 1 # insert\n",
    "    costs[2] = editDistance(first, second, i-1, j) + 1 # delete\n",
    "    \n",
    "    return min(costs)"
   ]
  },
  {
   "cell_type": "code",
   "execution_count": 122,
   "metadata": {
    "collapsed": false
   },
   "outputs": [
    {
     "name": "stdout",
     "output_type": "stream",
     "text": [
      "3\n",
      "Performance metric: 3.659952199086547e-07. Smaller is better\n"
     ]
    }
   ],
   "source": [
    "a = 'agoooo'\n",
    "b = 'agog'\n",
    "print(editDistance(a, b, len(a)-1, len(b)-1))\n",
    "runThis(editDistance(a, b, len(a)-1, len(b)-1))"
   ]
  },
  {
   "cell_type": "code",
   "execution_count": 123,
   "metadata": {
    "collapsed": true
   },
   "outputs": [],
   "source": [
    "def betterEditDistance(first, second):\n",
    "    n = max(len(first), len(second))\n",
    "    \n",
    "    table = [[None for i in range(n)] for j in range(n)]\n",
    "    \n",
    "    for i in range(n):\n",
    "        table[0][i] = i\n",
    "        table[i][0] = i\n",
    "    \n",
    "    for i in range(1,len(first)):\n",
    "        for j in range(1,len(second)):\n",
    "            costs = [None for i in range(3)]\n",
    "            \n",
    "            \n",
    "            if first[i] == second[j]:\n",
    "                costs[0] = table[i-1][j-1]\n",
    "            else:\n",
    "                costs[0] = table[i-1][j-1] + 1\n",
    "\n",
    "            costs[1] = table[i][j-1] + 1 # insert\n",
    "            costs[2] = table[i-1][j] + 1 # delete\n",
    "            \n",
    "            table[i][j] = min(costs)\n",
    "            \n",
    "    return table[i][j]"
   ]
  },
  {
   "cell_type": "code",
   "execution_count": 124,
   "metadata": {
    "collapsed": false
   },
   "outputs": [
    {
     "name": "stdout",
     "output_type": "stream",
     "text": [
      "4\n",
      "Performance metric: 3.6400160752236843e-07. Smaller is better\n"
     ]
    }
   ],
   "source": [
    "a = 'agooooo'\n",
    "b = 'agog'\n",
    "print(betterEditDistance(a, b))\n",
    "runThis(betterEditDistance(a, b))"
   ]
  },
  {
   "cell_type": "markdown",
   "metadata": {},
   "source": [
    "### Linear Partition Problem\n",
    "\n",
    "Given an arrangement of `n` non-negative numbers, arrange them into `k` partitions so as to minimize the maximum partition size."
   ]
  },
  {
   "cell_type": "code",
   "execution_count": 125,
   "metadata": {
    "collapsed": false
   },
   "outputs": [],
   "source": [
    "####\n",
    "## This code is not yet complete\n",
    "####\n",
    "\n",
    "table = [0]\n",
    "def maxPartition(vals, k):\n",
    "    global table\n",
    "    n = len(vals)\n",
    "    if len(table) < n:\n",
    "        table = [[None for i in range(k)] for j in range(n)]\n",
    "    \n",
    "    for r in range(n):\n",
    "        for c in range(k):\n",
    "            if c == 0:\n",
    "                table[r][c] = sum(vals[0:r+1])                \n",
    "            elif r == 0:\n",
    "                table[r][c] = vals[0]\n",
    "            elif c > r:\n",
    "                table[r][c] = max(vals[0:r+1])\n",
    "            else:\n",
    "                for i in range(r):\n",
    "                    if table[r][c] == None:\n",
    "                        table[r][c] = max(table[i][c-1], sum(vals[i+1:c+1]))\n",
    "                    else:\n",
    "                        table[r][c] = min(max(table[i][c-1], sum(vals[i+1:c+1])), table[r][c])\n",
    "    \n",
    "    return table[r][c]\n",
    "                        \n",
    "    "
   ]
  },
  {
   "cell_type": "code",
   "execution_count": 126,
   "metadata": {
    "collapsed": false
   },
   "outputs": [
    {
     "name": "stdout",
     "output_type": "stream",
     "text": [
      "2\n",
      "[[1, 1], [3, 2], [6, 2], [10, 2], [15, 2]]\n"
     ]
    }
   ],
   "source": [
    "table = [0]\n",
    "print(maxPartition([1,2,3,4,5],2))\n",
    "print(table)"
   ]
  },
  {
   "cell_type": "markdown",
   "metadata": {},
   "source": [
    "## References\n",
    "\n",
    "This material is a summary of notes that I've collected in [Professor Dinesh Mehta](http://inside.mines.edu/~dmehta/)'s CSCI406 - Algorithms at the [Colorado School of Mines](mines.edu)."
   ]
  }
 ],
 "metadata": {
  "kernelspec": {
   "display_name": "Python [py35]",
   "language": "python",
   "name": "Python [py35]"
  },
  "language_info": {
   "codemirror_mode": {
    "name": "ipython",
    "version": 3
   },
   "file_extension": ".py",
   "mimetype": "text/x-python",
   "name": "python",
   "nbconvert_exporter": "python",
   "pygments_lexer": "ipython3",
   "version": "3.5.2"
  }
 },
 "nbformat": 4,
 "nbformat_minor": 0
}
